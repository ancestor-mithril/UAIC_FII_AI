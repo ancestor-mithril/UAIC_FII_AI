{
 "cells": [
  {
   "cell_type": "code",
   "execution_count": 3,
   "metadata": {
    "collapsed": true,
    "jupyter": {
     "outputs_hidden": true
    }
   },
   "outputs": [
    {
     "name": "stdout",
     "output_type": "stream",
     "text": [
      "Collecting nltk\n",
      "  Downloading nltk-3.5.zip (1.4 MB)\n",
      "Requirement already satisfied: click in c:\\users\\georges\\.conda\\envs\\nnproject\\lib\\site-packages (from nltk) (7.1.2)\n",
      "Collecting joblib\n",
      "  Downloading joblib-1.0.0-py3-none-any.whl (302 kB)\n",
      "Collecting regex\n",
      "  Downloading regex-2020.11.13-cp37-cp37m-win_amd64.whl (269 kB)\n",
      "Collecting tqdm\n",
      "  Downloading tqdm-4.54.1-py2.py3-none-any.whl (69 kB)\n",
      "Building wheels for collected packages: nltk\n",
      "  Building wheel for nltk (setup.py): started\n",
      "  Building wheel for nltk (setup.py): finished with status 'done'\n",
      "  Created wheel for nltk: filename=nltk-3.5-py3-none-any.whl size=1434677 sha256=80291f970d03aa6a80226b6373236346cbf42e9a549b63abfe1ad81cab7a9a36\n",
      "  Stored in directory: c:\\users\\georges\\appdata\\local\\pip\\cache\\wheels\\45\\6c\\46\\a1865e7ba706b3817f5d1b2ff7ce8996aabdd0d03d47ba0266\n",
      "Successfully built nltk\n",
      "Installing collected packages: tqdm, regex, joblib, nltk\n",
      "Successfully installed joblib-1.0.0 nltk-3.5 regex-2020.11.13 tqdm-4.54.1\n"
     ]
    }
   ],
   "source": [
    "!pip install nltk"
   ]
  },
  {
   "cell_type": "code",
   "execution_count": 22,
   "metadata": {
    "collapsed": true,
    "jupyter": {
     "outputs_hidden": true
    }
   },
   "outputs": [
    {
     "name": "stdout",
     "output_type": "stream",
     "text": [
      "Collecting gensim\n",
      "  Downloading gensim-3.8.3-cp37-cp37m-win_amd64.whl (24.2 MB)\n",
      "Requirement already satisfied: scipy>=0.18.1 in c:\\users\\georges\\.conda\\envs\\nnproject\\lib\\site-packages (from gensim) (1.5.2)\n",
      "Requirement already satisfied: numpy>=1.11.3 in c:\\users\\georges\\.conda\\envs\\nnproject\\lib\\site-packages (from gensim) (1.19.2)\n",
      "Requirement already satisfied: six>=1.5.0 in c:\\users\\georges\\.conda\\envs\\nnproject\\lib\\site-packages (from gensim) (1.15.0)\n",
      "Collecting Cython==0.29.14\n",
      "  Downloading Cython-0.29.14-cp37-cp37m-win_amd64.whl (1.7 MB)\n",
      "Requirement already satisfied: numpy>=1.11.3 in c:\\users\\georges\\.conda\\envs\\nnproject\\lib\\site-packages (from gensim) (1.19.2)\n",
      "Collecting smart-open>=1.8.1\n",
      "  Downloading smart_open-4.0.1.tar.gz (117 kB)\n",
      "Building wheels for collected packages: smart-open\n",
      "  Building wheel for smart-open (setup.py): started\n",
      "  Building wheel for smart-open (setup.py): finished with status 'done'\n",
      "  Created wheel for smart-open: filename=smart_open-4.0.1-py3-none-any.whl size=108250 sha256=7be9244c99ae23b2969b24ced808a6f239f0c97d07a9fa2e57715a0b5e6cebb2\n",
      "  Stored in directory: c:\\users\\georges\\appdata\\local\\pip\\cache\\wheels\\34\\3d\\14\\f19c01a19c9201cdb6a76b049904d5226912569be919ad1eae\n",
      "Successfully built smart-open\n",
      "Installing collected packages: smart-open, Cython, gensim\n",
      "Successfully installed Cython-0.29.14 gensim-3.8.3 smart-open-4.0.1\n"
     ]
    }
   ],
   "source": [
    "!pip install --upgrade gensim"
   ]
  },
  {
   "cell_type": "code",
   "execution_count": 27,
   "metadata": {},
   "outputs": [
    {
     "name": "stdout",
     "output_type": "stream",
     "text": [
      "Collecting scikit-learn\n",
      "  Downloading scikit_learn-0.23.2-cp37-cp37m-win_amd64.whl (6.8 MB)\n",
      "Requirement already satisfied: scipy>=0.19.1 in c:\\users\\georges\\.conda\\envs\\nnproject\\lib\\site-packages (from scikit-learn) (1.5.2)\n",
      "Requirement already satisfied: numpy>=1.13.3 in c:\\users\\georges\\.conda\\envs\\nnproject\\lib\\site-packages (from scikit-learn) (1.19.2)\n",
      "Requirement already satisfied: joblib>=0.11 in c:\\users\\georges\\.conda\\envs\\nnproject\\lib\\site-packages (from scikit-learn) (1.0.0)\n",
      "Requirement already satisfied: numpy>=1.13.3 in c:\\users\\georges\\.conda\\envs\\nnproject\\lib\\site-packages (from scikit-learn) (1.19.2)\n",
      "Collecting threadpoolctl>=2.0.0\n",
      "  Downloading threadpoolctl-2.1.0-py3-none-any.whl (12 kB)\n",
      "Installing collected packages: threadpoolctl, scikit-learn\n",
      "Successfully installed scikit-learn-0.23.2 threadpoolctl-2.1.0\n"
     ]
    }
   ],
   "source": [
    "!pip install -U scikit-learn"
   ]
  },
  {
   "cell_type": "code",
   "execution_count": 28,
   "metadata": {},
   "outputs": [],
   "source": [
    "import nltk\n",
    "import re\n",
    "import numpy as np\n",
    "from sklearn.manifold import TSNE\n",
    "import matplotlib.pyplot as plt\n",
    "%matplotlib inline\n"
   ]
  },
  {
   "cell_type": "markdown",
   "metadata": {},
   "source": [
    "## Citirea textului din fisier"
   ]
  },
  {
   "cell_type": "code",
   "execution_count": 7,
   "metadata": {},
   "outputs": [],
   "source": [
    "with open(\"input.txt\", \"r\") as fd:\n",
    "    input_text = fd.read()"
   ]
  },
  {
   "cell_type": "markdown",
   "metadata": {},
   "source": [
    " ## Preprocesarea textului"
   ]
  },
  {
   "cell_type": "markdown",
   "metadata": {},
   "source": [
    "#### Impartirea pe propozitii"
   ]
  },
  {
   "cell_type": "code",
   "execution_count": 8,
   "metadata": {},
   "outputs": [
    {
     "name": "stderr",
     "output_type": "stream",
     "text": [
      "[nltk_data] Downloading package punkt to\n",
      "[nltk_data]     C:\\Users\\GeorgeS\\AppData\\Roaming\\nltk_data...\n",
      "[nltk_data]   Package punkt is already up-to-date!\n"
     ]
    }
   ],
   "source": [
    "import nltk\n",
    "nltk.download('punkt')\n",
    "from nltk.corpus import stopwords\n",
    "\n",
    "sentences = nltk.sent_tokenize(input_text)"
   ]
  },
  {
   "cell_type": "code",
   "execution_count": 9,
   "metadata": {},
   "outputs": [
    {
     "data": {
      "text/plain": [
       "['Lorem Ipsum is simply dummy text of the printing and typesetting industry.',\n",
       " \"Lorem Ipsum has been the industry's standard dummy text ever since the 1500s, when an unknown printer took a galley of type and scrambled it to make a type specimen book.\",\n",
       " 'It has survived not only five centuries, but also the leap into electronic typesetting, remaining essentially unchanged.',\n",
       " 'It was popularised in the 1960s with the release of Letraset sheets containing Lorem Ipsum passages, and more recently with desktop publishing software like Aldus PageMaker including versions of Lorem Ipsum']"
      ]
     },
     "execution_count": 9,
     "metadata": {},
     "output_type": "execute_result"
    }
   ],
   "source": [
    "sentences"
   ]
  },
  {
   "cell_type": "markdown",
   "metadata": {},
   "source": [
    "#### Tokenizarea si eliminarea stopwords-urilor"
   ]
  },
  {
   "cell_type": "code",
   "execution_count": 10,
   "metadata": {},
   "outputs": [],
   "source": [
    "import re\n",
    "look_distance = 2\n",
    "word_dict = dict()\n",
    "s = []\n",
    "for i in sentences:\n",
    "    sentence = re.sub(\"[^a-zA-Z]\", \" \",  i.lower())\n",
    "    y = [x for x in nltk.word_tokenize(sentence) if x not in stopwords.words('english')]\n",
    "    s.append(y)\n",
    "    for index in range(len(y)):\n",
    "        context = []\n",
    "        lower_index = 0 if index - look_distance < 0 else index - look_distance\n",
    "        higher_index = len(y) if index + look_distance > len(y) else index + look_distance\n",
    "        for kappa in range(lower_index, higher_index):\n",
    "            if y[kappa] != y[index]:\n",
    "                context.append(y[kappa])      \n",
    "        word_dict[y[index]] = context\n",
    "words_in_sentences = s"
   ]
  },
  {
   "cell_type": "code",
   "execution_count": 11,
   "metadata": {
    "collapsed": true,
    "jupyter": {
     "outputs_hidden": true
    }
   },
   "outputs": [
    {
     "data": {
      "text/plain": [
       "[['lorem',\n",
       "  'ipsum',\n",
       "  'simply',\n",
       "  'dummy',\n",
       "  'text',\n",
       "  'printing',\n",
       "  'typesetting',\n",
       "  'industry'],\n",
       " ['lorem',\n",
       "  'ipsum',\n",
       "  'industry',\n",
       "  'standard',\n",
       "  'dummy',\n",
       "  'text',\n",
       "  'ever',\n",
       "  'since',\n",
       "  'unknown',\n",
       "  'printer',\n",
       "  'took',\n",
       "  'galley',\n",
       "  'type',\n",
       "  'scrambled',\n",
       "  'make',\n",
       "  'type',\n",
       "  'specimen',\n",
       "  'book'],\n",
       " ['survived',\n",
       "  'five',\n",
       "  'centuries',\n",
       "  'also',\n",
       "  'leap',\n",
       "  'electronic',\n",
       "  'typesetting',\n",
       "  'remaining',\n",
       "  'essentially',\n",
       "  'unchanged'],\n",
       " ['popularised',\n",
       "  'release',\n",
       "  'letraset',\n",
       "  'sheets',\n",
       "  'containing',\n",
       "  'lorem',\n",
       "  'ipsum',\n",
       "  'passages',\n",
       "  'recently',\n",
       "  'desktop',\n",
       "  'publishing',\n",
       "  'software',\n",
       "  'like',\n",
       "  'aldus',\n",
       "  'pagemaker',\n",
       "  'including',\n",
       "  'versions',\n",
       "  'lorem',\n",
       "  'ipsum']]"
      ]
     },
     "execution_count": 11,
     "metadata": {},
     "output_type": "execute_result"
    }
   ],
   "source": [
    "words_in_sentences"
   ]
  },
  {
   "cell_type": "code",
   "execution_count": 12,
   "metadata": {
    "collapsed": true,
    "jupyter": {
     "outputs_hidden": true
    }
   },
   "outputs": [
    {
     "data": {
      "text/plain": [
       "{'lorem': ['including', 'versions', 'ipsum'],\n",
       " 'ipsum': ['versions', 'lorem'],\n",
       " 'simply': ['lorem', 'ipsum', 'dummy'],\n",
       " 'dummy': ['industry', 'standard', 'text'],\n",
       " 'text': ['standard', 'dummy', 'ever'],\n",
       " 'printing': ['dummy', 'text', 'typesetting'],\n",
       " 'typesetting': ['leap', 'electronic', 'remaining'],\n",
       " 'industry': ['lorem', 'ipsum', 'standard'],\n",
       " 'standard': ['ipsum', 'industry', 'dummy'],\n",
       " 'ever': ['dummy', 'text', 'since'],\n",
       " 'since': ['text', 'ever', 'unknown'],\n",
       " 'unknown': ['ever', 'since', 'printer'],\n",
       " 'printer': ['since', 'unknown', 'took'],\n",
       " 'took': ['unknown', 'printer', 'galley'],\n",
       " 'galley': ['printer', 'took', 'type'],\n",
       " 'type': ['scrambled', 'make', 'specimen'],\n",
       " 'scrambled': ['galley', 'type', 'make'],\n",
       " 'make': ['type', 'scrambled', 'type'],\n",
       " 'specimen': ['make', 'type', 'book'],\n",
       " 'book': ['type', 'specimen'],\n",
       " 'survived': ['five'],\n",
       " 'five': ['survived', 'centuries'],\n",
       " 'centuries': ['survived', 'five', 'also'],\n",
       " 'also': ['five', 'centuries', 'leap'],\n",
       " 'leap': ['centuries', 'also', 'electronic'],\n",
       " 'electronic': ['also', 'leap', 'typesetting'],\n",
       " 'remaining': ['electronic', 'typesetting', 'essentially'],\n",
       " 'essentially': ['typesetting', 'remaining', 'unchanged'],\n",
       " 'unchanged': ['remaining', 'essentially'],\n",
       " 'popularised': ['release'],\n",
       " 'release': ['popularised', 'letraset'],\n",
       " 'letraset': ['popularised', 'release', 'sheets'],\n",
       " 'sheets': ['release', 'letraset', 'containing'],\n",
       " 'containing': ['letraset', 'sheets', 'lorem'],\n",
       " 'passages': ['lorem', 'ipsum', 'recently'],\n",
       " 'recently': ['ipsum', 'passages', 'desktop'],\n",
       " 'desktop': ['passages', 'recently', 'publishing'],\n",
       " 'publishing': ['recently', 'desktop', 'software'],\n",
       " 'software': ['desktop', 'publishing', 'like'],\n",
       " 'like': ['publishing', 'software', 'aldus'],\n",
       " 'aldus': ['software', 'like', 'pagemaker'],\n",
       " 'pagemaker': ['like', 'aldus', 'including'],\n",
       " 'including': ['aldus', 'pagemaker', 'versions'],\n",
       " 'versions': ['pagemaker', 'including', 'lorem']}"
      ]
     },
     "execution_count": 12,
     "metadata": {},
     "output_type": "execute_result"
    }
   ],
   "source": [
    "word_dict"
   ]
  },
  {
   "cell_type": "markdown",
   "metadata": {},
   "source": [
    "## Generarea datelor de antrenare: vectori one-hot"
   ]
  },
  {
   "cell_type": "code",
   "execution_count": 13,
   "metadata": {},
   "outputs": [],
   "source": [
    "import numpy as np\n",
    "word_indices = np.array([x for x in range(len(word_dict.keys()))])\n",
    "\n",
    "one_hot_vectors = np.zeros((word_indices.size, word_indices.max() + 1))\n",
    "one_hot_vectors[np.arange(word_indices.size),word_indices] = 1"
   ]
  },
  {
   "cell_type": "code",
   "execution_count": 14,
   "metadata": {
    "collapsed": true,
    "jupyter": {
     "outputs_hidden": true
    }
   },
   "outputs": [
    {
     "data": {
      "text/plain": [
       "array([[1., 0., 0., ..., 0., 0., 0.],\n",
       "       [0., 1., 0., ..., 0., 0., 0.],\n",
       "       [0., 0., 1., ..., 0., 0., 0.],\n",
       "       ...,\n",
       "       [0., 0., 0., ..., 1., 0., 0.],\n",
       "       [0., 0., 0., ..., 0., 1., 0.],\n",
       "       [0., 0., 0., ..., 0., 0., 1.]])"
      ]
     },
     "execution_count": 14,
     "metadata": {},
     "output_type": "execute_result"
    }
   ],
   "source": [
    "one_hot_vectors"
   ]
  },
  {
   "cell_type": "code",
   "execution_count": 23,
   "metadata": {},
   "outputs": [
    {
     "data": {
      "text/plain": [
       "[('containing', 0.022727331), ('publishing', 0.02272733)]"
      ]
     },
     "execution_count": 23,
     "metadata": {},
     "output_type": "execute_result"
    }
   ],
   "source": [
    "from gensim.models import Word2Vec\n",
    "\n",
    "\n",
    "\n",
    "model = Word2Vec(min_count=1)\n",
    "\n",
    "model.build_vocab(words_in_sentences)  # prepare the model vocabulary\n",
    "\n",
    "model.train(words_in_sentences, total_examples=model.corpus_count, epochs=model.epochs)\n",
    "\n",
    "\n"
   ]
  },
  {
   "cell_type": "code",
   "execution_count": 66,
   "metadata": {},
   "outputs": [
    {
     "data": {
      "text/plain": [
       "[('industry', 0.022727313),\n",
       " ('text', 0.02272731),\n",
       " ('passages', 0.022727309),\n",
       " ('software', 0.022727303),\n",
       " ('five', 0.022727303)]"
      ]
     },
     "execution_count": 66,
     "metadata": {},
     "output_type": "execute_result"
    }
   ],
   "source": [
    "model.predict_output_word(['took'], 5)"
   ]
  },
  {
   "cell_type": "code",
   "execution_count": 33,
   "metadata": {},
   "outputs": [],
   "source": [
    "def tsne_plot(model):\n",
    "    labels = []\n",
    "    tokens = []\n",
    "\n",
    "    for word in model.wv.vocab:\n",
    "#         print(model[word], word)\n",
    "        tokens.append(model[word])\n",
    "        labels.append(word)\n",
    "    \n",
    "    tsne_model = TSNE(perplexity=40, n_components=2, init='pca', n_iter=2500, random_state=23)\n",
    "    new_values = tsne_model.fit_transform(tokens)\n",
    "\n",
    "    x = []\n",
    "    y = []\n",
    "    for value in new_values:\n",
    "        x.append(value[0])\n",
    "        y.append(value[1])\n",
    "        \n",
    "    plt.figure(figsize=(16, 16)) \n",
    "    for i in range(len(x)):\n",
    "        plt.scatter(x[i],y[i])\n",
    "        plt.annotate(labels[i],\n",
    "                     xy=(x[i], y[i]),\n",
    "                     xytext=(5, 2),\n",
    "                     textcoords='offset points',\n",
    "                     ha='right',\n",
    "                     va='bottom')\n",
    "    plt.show()"
   ]
  },
  {
   "cell_type": "code",
   "execution_count": 34,
   "metadata": {},
   "outputs": [
    {
     "name": "stderr",
     "output_type": "stream",
     "text": [
      "C:\\Users\\GeorgeS\\.conda\\envs\\nnProject\\lib\\site-packages\\ipykernel_launcher.py:7: DeprecationWarning: Call to deprecated `__getitem__` (Method will be removed in 4.0.0, use self.wv.__getitem__() instead).\n",
      "  import sys\n"
     ]
    },
    {
     "data": {
      "image/png": "[encoded data removed]",
      "text/plain": [
       "<Figure size 1152x1152 with 1 Axes>"
      ]
     },
     "metadata": {
      "needs_background": "light"
     },
     "output_type": "display_data"
    }
   ],
   "source": [
    "tsne_plot(model)"
   ]
  }
 ],
 "metadata": {
  "kernelspec": {
   "display_name": "Python 3",
   "language": "python",
   "name": "python3"
  },
  "language_info": {
   "codemirror_mode": {
    "name": "ipython",
    "version": 3
   },
   "file_extension": ".py",
   "mimetype": "text/x-python",
   "name": "python",
   "nbconvert_exporter": "python",
   "pygments_lexer": "ipython3",
   "version": "3.7.9"
  }
 },
 "nbformat": 4,
 "nbformat_minor": 4
}
