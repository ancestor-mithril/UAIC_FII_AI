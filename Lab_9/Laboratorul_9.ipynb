{
 "cells": [
  {
   "cell_type": "markdown",
   "metadata": {},
   "source": [
    "# AI Laboratory 9"
   ]
  },
  {
   "cell_type": "markdown",
   "metadata": {},
   "source": [
    "## Loading and parsing ontology"
   ]
  },
  {
   "cell_type": "code",
   "execution_count": 1,
   "metadata": {},
   "outputs": [
    {
     "data": {
      "text/plain": [
       "<Graph identifier=N5ee61ddc70cf4bc080ce74e452d9b7ef (<class 'rdflib.graph.Graph'>)>"
      ]
     },
     "execution_count": 1,
     "metadata": {},
     "output_type": "execute_result"
    }
   ],
   "source": [
    "import rdflib\n",
    "g = rdflib.Graph()\n",
    "g.parse ('./CSO.3.2.owl', format='xml')\n",
    "\n"
   ]
  },
  {
   "cell_type": "markdown",
   "metadata": {},
   "source": [
    "## C) searching for keyword in ontology"
   ]
  },
  {
   "cell_type": "code",
   "execution_count": 2,
   "metadata": {},
   "outputs": [
    {
     "name": "stdin",
     "output_type": "stream",
     "text": [
      "Enter concept to search for: gradient\n"
     ]
    },
    {
     "name": "stdout",
     "output_type": "stream",
     "text": [
      "https://cso.kmi.open.ac.uk/topics/preconditioned_conjugate_gradient_method http://www.w3.org/2002/07/owl#sameAs http://dbpedia.org/resource/Conjugate_gradient_method\n"
     ]
    }
   ],
   "source": [
    "search_for = input(\"Enter concept to search for:\")\n",
    "for s, p, o in g:\n",
    "    if search_for in str(o):\n",
    "        print(s, p, o)\n",
    "        break\n"
   ]
  },
  {
   "cell_type": "markdown",
   "metadata": {},
   "source": [
    "### Code for printing part of ontology"
   ]
  },
  {
   "cell_type": "code",
   "execution_count": 3,
   "metadata": {},
   "outputs": [
    {
     "name": "stdout",
     "output_type": "stream",
     "text": [
      "https://cso.kmi.open.ac.uk/topics/fading_channels http://cso.kmi.open.ac.uk/schema/cso#contributesTo https://cso.kmi.open.ac.uk/topics/receive_antennas\n",
      "https://cso.kmi.open.ac.uk/topics/low-complexity http://cso.kmi.open.ac.uk/schema/cso#contributesTo https://cso.kmi.open.ac.uk/topics/turbo_code\n",
      "http://cso.kmi.open.ac.uk/schema/cso#Topic\n"
     ]
    }
   ],
   "source": [
    "i = 0\n",
    "for s, p, o in g:\n",
    "    if i > 1:\n",
    "        print(str (o))\n",
    "        break\n",
    "    print(s, p, o)\n",
    "    i += 1"
   ]
  },
  {
   "cell_type": "markdown",
   "metadata": {},
   "source": [
    "### rdflib tutorial"
   ]
  },
  {
   "cell_type": "code",
   "execution_count": 4,
   "metadata": {},
   "outputs": [
    {
     "name": "stdout",
     "output_type": "stream",
     "text": [
      "--- printing raw triples ---\n",
      "(rdflib.term.URIRef('http://example.org/edward'), rdflib.term.URIRef('http://xmlns.com/foaf/0.1/mbox'), rdflib.term.URIRef('mailto:e.scissorhands@example.org'))\n",
      "(rdflib.term.URIRef('http://example.org/edward'), rdflib.term.URIRef('http://xmlns.com/foaf/0.1/nick'), rdflib.term.Literal('ed', datatype=rdflib.term.URIRef('http://www.w3.org/2001/XMLSchema#string')))\n",
      "(rdflib.term.URIRef('http://example.org/donna'), rdflib.term.URIRef('http://xmlns.com/foaf/0.1/name'), rdflib.term.Literal('Donna Fales'))\n",
      "(rdflib.term.URIRef('http://example.org/donna'), rdflib.term.URIRef('http://xmlns.com/foaf/0.1/nick'), rdflib.term.Literal('donna', lang='ed'))\n",
      "(rdflib.term.URIRef('http://example.org/edward'), rdflib.term.URIRef('http://www.w3.org/1999/02/22-rdf-syntax-ns#type'), rdflib.term.URIRef('http://xmlns.com/foaf/0.1/Person'))\n",
      "(rdflib.term.URIRef('http://example.org/donna'), rdflib.term.URIRef('http://www.w3.org/1999/02/22-rdf-syntax-ns#type'), rdflib.term.URIRef('http://xmlns.com/foaf/0.1/Person'))\n",
      "(rdflib.term.URIRef('http://example.org/donna'), rdflib.term.URIRef('http://xmlns.com/foaf/0.1/mbox'), rdflib.term.URIRef('mailto:donna@example.org'))\n",
      "(rdflib.term.URIRef('http://example.org/edward'), rdflib.term.URIRef('http://xmlns.com/foaf/0.1/name'), rdflib.term.Literal('Edward Scissorhands'))\n",
      "--- printing mboxes ---\n",
      "mailto:donna@example.org\n",
      "mailto:e.scissorhands@example.org\n",
      "--- printing mboxes ---\n",
      "@prefix foaf: <http://xmlns.com/foaf/0.1/> .\n",
      "@prefix xsd: <http://www.w3.org/2001/XMLSchema#> .\n",
      "\n",
      "<http://example.org/donna> a foaf:Person ;\n",
      "    foaf:mbox <mailto:donna@example.org> ;\n",
      "    foaf:name \"Donna Fales\" ;\n",
      "    foaf:nick \"donna\"@ed .\n",
      "\n",
      "<http://example.org/edward> a foaf:Person ;\n",
      "    foaf:mbox <mailto:e.scissorhands@example.org> ;\n",
      "    foaf:name \"Edward Scissorhands\" ;\n",
      "    foaf:nick \"ed\"^^xsd:string .\n",
      "\n",
      "\n"
     ]
    }
   ],
   "source": [
    "from rdflib import Graph, Literal, RDF, URIRef\n",
    "# rdflib knows about some namespaces, like FOAF\n",
    "from rdflib.namespace import FOAF , XSD\n",
    "\n",
    "# create a Graph\n",
    "g = Graph()\n",
    "\n",
    "# Create an RDF URI node to use as the subject for multiple triples\n",
    "donna = URIRef(\"http://example.org/donna\")\n",
    "\n",
    "# Add triples using store's add() method.\n",
    "g.add((donna, RDF.type, FOAF.Person))\n",
    "g.add((donna, FOAF.nick, Literal(\"donna\", lang=\"ed\")))\n",
    "g.add((donna, FOAF.name, Literal(\"Donna Fales\")))\n",
    "g.add((donna, FOAF.mbox, URIRef(\"mailto:donna@example.org\")))\n",
    "\n",
    "# Add another person\n",
    "ed = URIRef(\"http://example.org/edward\")\n",
    "\n",
    "# Add triples using store's add() method.\n",
    "g.add((ed, RDF.type, FOAF.Person))\n",
    "g.add((ed, FOAF.nick, Literal(\"ed\", datatype=XSD.string)))\n",
    "g.add((ed, FOAF.name, Literal(\"Edward Scissorhands\")))\n",
    "g.add((ed, FOAF.mbox, URIRef(\"mailto:e.scissorhands@example.org\")))\n",
    "\n",
    "# Iterate over triples in store and print them out.\n",
    "print(\"--- printing raw triples ---\")\n",
    "for s, p, o in g:\n",
    "    print((s, p, o))\n",
    "\n",
    "# For each foaf:Person in the store, print out their mbox property's value.\n",
    "print(\"--- printing mboxes ---\")\n",
    "for person in g.subjects(RDF.type, FOAF.Person):\n",
    "    for mbox in g.objects(person, FOAF.mbox):\n",
    "        print(mbox)\n",
    "\n",
    "# Bind the FOAF namespace to a prefix for more readable output\n",
    "g.bind(\"foaf\", FOAF)\n",
    "\n",
    "# print all the data in the Notation3 format\n",
    "print(\"--- printing mboxes ---\")\n",
    "print(g.serialize(format='n3').decode(\"utf-8\"))"
   ]
  },
  {
   "cell_type": "code",
   "execution_count": 5,
   "metadata": {},
   "outputs": [
    {
     "name": "stdout",
     "output_type": "stream",
     "text": [
      "end\n"
     ]
    }
   ],
   "source": [
    "print(\"end\")"
   ]
  }
 ],
 "metadata": {
  "kernelspec": {
   "display_name": "Python 3",
   "language": "python",
   "name": "python3"
  },
  "language_info": {
   "codemirror_mode": {
    "name": "ipython",
    "version": 3
   },
   "file_extension": ".py",
   "mimetype": "text/x-python",
   "name": "python",
   "nbconvert_exporter": "python",
   "pygments_lexer": "ipython3",
   "version": "3.8.3"
  }
 },
 "nbformat": 4,
 "nbformat_minor": 4
}
