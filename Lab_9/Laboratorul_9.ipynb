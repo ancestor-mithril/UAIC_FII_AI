{
 "cells": [
  {
   "cell_type": "markdown",
   "metadata": {},
   "source": [
    "# AI Laboratory 9"
   ]
  },
  {
   "cell_type": "markdown",
   "metadata": {},
   "source": [
    "## Loading and parsing ontology"
   ]
  },
  {
   "cell_type": "code",
   "execution_count": 1,
   "metadata": {},
   "outputs": [
    {
     "data": {
      "text/plain": [
       "<Graph identifier=Nfa46e026c9e44c8e91c35f16049792c1 (<class 'rdflib.graph.Graph'>)>"
      ]
     },
     "execution_count": 1,
     "metadata": {},
     "output_type": "execute_result"
    }
   ],
   "source": [
    "import rdflib\n",
    "from rdflib import URIRef, BNode, Literal\n",
    "g = rdflib.Graph()\n",
    "g.parse ('./CSO.3.2.owl', format='xml')"
   ]
  },
  {
   "cell_type": "markdown",
   "metadata": {},
   "source": [
    "## a) inserting new concepts in ontology"
   ]
  },
  {
   "cell_type": "code",
   "execution_count": 2,
   "metadata": {},
   "outputs": [],
   "source": [
    "new_subject = URIRef(\"https://infox.ro/main\")\n",
    "new_predicate = URIRef(\"https://infox.ro/main\")\n",
    "new_object = URIRef(\"https://infox.ro/main\")\n",
    "g.add((new_subject, new_predicate, new_object))"
   ]
  },
  {
   "cell_type": "markdown",
   "metadata": {},
   "source": [
    "## c) searching for keyword in ontology"
   ]
  },
  {
   "cell_type": "code",
   "execution_count": 25,
   "metadata": {},
   "outputs": [
    {
     "name": "stdin",
     "output_type": "stream",
     "text": [
      "Enter concept to search for: info\n"
     ]
    },
    {
     "name": "stdout",
     "output_type": "stream",
     "text": [
      "https://cso.kmi.open.ac.uk/topics/information_fusion http://www.w3.org/2000/01/rdf-schema#label information fusion\n"
     ]
    }
   ],
   "source": [
    "search_for = input(\"Enter concept to search for:\")\n",
    "for s, p, o in g:\n",
    "    if search_for in str(g.preferredLabel(s)):\n",
    "        print(s, p, o)\n",
    "        break\n"
   ]
  },
  {
   "cell_type": "markdown",
   "metadata": {},
   "source": [
    "### Code for printing part of ontology"
   ]
  },
  {
   "cell_type": "code",
   "execution_count": 18,
   "metadata": {},
   "outputs": [
    {
     "name": "stdout",
     "output_type": "stream",
     "text": [
      "[(rdflib.term.URIRef('http://www.w3.org/2000/01/rdf-schema#label'), rdflib.term.Literal('adaptive control systems', lang='en'))] \n",
      "\n",
      "<class 'rdflib.term.URIRef'> <class 'rdflib.term.URIRef'> <class 'rdflib.term.URIRef'> \n",
      "\n",
      "https://cso.kmi.open.ac.uk/topics/adaptive_control_systems http://cso.kmi.open.ac.uk/schema/cso#contributesTo https://cso.kmi.open.ac.uk/topics/fuzzy_sliding_mode_control \n",
      "\n",
      "\n",
      "\n",
      "[(rdflib.term.URIRef('http://www.w3.org/2000/01/rdf-schema#label'), rdflib.term.Literal('language modelling', lang='en'))] \n",
      "\n",
      "<class 'rdflib.term.URIRef'> <class 'rdflib.term.URIRef'> <class 'rdflib.term.Literal'> \n",
      "\n",
      "https://cso.kmi.open.ac.uk/topics/language_modelling http://www.w3.org/2000/01/rdf-schema#label language modelling \n",
      "\n",
      "\n",
      "\n"
     ]
    }
   ],
   "source": [
    "i = 0\n",
    "for s, p, o in g:\n",
    "    if i > 1:\n",
    "        break\n",
    "    print(g.preferredLabel(s), '\\n')\n",
    "    print(type(s), type(p), type(o), '\\n')    \n",
    "    print(s, p, o, '\\n\\n\\n')\n",
    "    i += 1"
   ]
  },
  {
   "cell_type": "code",
   "execution_count": 5,
   "metadata": {},
   "outputs": [
    {
     "name": "stdout",
     "output_type": "stream",
     "text": [
      "end\n"
     ]
    }
   ],
   "source": [
    "print(\"end\")"
   ]
  }
 ],
 "metadata": {
  "kernelspec": {
   "display_name": "Python 3",
   "language": "python",
   "name": "python3"
  },
  "language_info": {
   "codemirror_mode": {
    "name": "ipython",
    "version": 3
   },
   "file_extension": ".py",
   "mimetype": "text/x-python",
   "name": "python",
   "nbconvert_exporter": "python",
   "pygments_lexer": "ipython3",
   "version": "3.8.3"
  }
 },
 "nbformat": 4,
 "nbformat_minor": 4
}
