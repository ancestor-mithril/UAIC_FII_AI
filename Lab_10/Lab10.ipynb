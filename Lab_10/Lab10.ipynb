{
 "cells": [
  {
   "cell_type": "code",
   "execution_count": null,
   "metadata": {},
   "outputs": [],
   "source": [
    "import nltk\n",
    "nltk.download('stopwords')"
   ]
  },
  {
   "cell_type": "code",
   "execution_count": 77,
   "metadata": {},
   "outputs": [
    {
     "name": "stdout",
     "output_type": "stream",
     "text": [
      "{'vi', 'cine', 'altcineva', 'intr', 'carora', 'treia', 'treilea', 'atare', 'noastra', 'peste', 'mele', 'voua', 'tine', 'caror', 'iţi', 'pana', 'mod', 'puţina', 'oriunde', 'oricine', 'voştri', 'catre', 'acelasi', 'fi', 'mie', 'din', 'unii', 'ca', 'nou', 'spre', 'eşti', 'aceia', 'inca', 'asta', 'sau', 'm', 'cit', 'oricind', 'si', 'nimeni', 'intre', 'şi', 'atita', 'aceşti', 'suntem', 'uneori', 'atata', 'deasupra', 'linga', 'totul', 'caci', 'astea', 'cel', 'citi', 'nimic', 'spate', 'patra', 'meu', 'acea', 'alta', 'noastre', 'patru', 'care', 'aiba', 'decit', 'voi', 'multa', 'va', 'pot', 'fost', 'dintre', 'fiţi', 'este', 'ce', 'carei', 'atatea', 'unor', 'ţi', 'sa', 'mi', 'alt', 'toata', 'acestui', 'dupa', 'nostru', 'altceva', 'acei', 'doua', 'deja', 'doi', 'imi', 'avea', 'aveţi', 'noi', 'fiecare', 'sintem', 'citeva', 'cu', 'ceilalti', 'un', 'sai', 'doar', 'cineva', 'li', 'aceeasi', 'pina', 'ceea', 'ale', 'fii', 'tu', 'altul', 'fiu', 'aceasta', 'pentru', 'tocmai', 'alte', 'cumva', 'oricand', 'ai', 'oricum', 'sub', 'uneia', 'oricit', 'anume', 'cind', 'alea', 'el', 'acelea', 'vom', 'fel', 'lui', 'nu', 'desi', 'mulţi', 'toti', 'sami', 'o', 'isi', 'foarte', 'incit', 'ne', 'sunteţi', 'inapoi', 'iti', 'or', 'caruia', 'multi', 'aceste', 'prima', 'una', 'adica', 'tuturor', 'nişte', 'oricare', 'orice', 'mine', 'fata', 'ci', 'daca', 'atitia', 'insa', 'acest', 'ului', 'drept', 'parca', 'sati', 'asa', 'face', 'unul', 'alti', 'i', 'celor', 'u', 'cei', 'acesta', 'altfel', 'vreun', 'eram', 'lor', 'a', 'cui', 'acestia', 'niste', 'cum', 'in', 'acestea', 'le', 'langa', 'maine', 'mereu', 'da', 'mult', 'cat', 'sunt', 'ia', 'pai', 'asupra', 'ii', 'ori', 'acela', 'numai', 'ar', 'inainte', 'prin', 'poate', 'ceva', 'unde', 'eu', 'voastra', 'voastre', 'atunci', 'era', 'aceea', 'atitea', 'fara', 'acel', 'unui', 'mea', 'cand', 'fim', 'acestei', 'cate', 'unora', 'puţin', 'as', 'astfel', 'atit', 'al', 'mai', 'citva', 'prea', 'deşi', 'v', 'cite', 'carui', 'atat', 'avem', 'de', 'ta', 'ba', 'ati', 'iar', 'il', 'nostri', 'pe', 'mei', 'e', 'careia', 'la', 'vor', 'primul', 'acele', 'aici', 'ţie', 'tau', 'citiva', 'abia', 'trei', 'ni', 'totusi', 'sale', 'dar', 'vostru', 'tale', 'aia', 'aştia', 'are', 'despre', 'apoi', 'noua', 'avut', 'noştri', 'deci', 'caţi', 'ma', 'am', 'catva', 'toate', 'fie', 'chiar', 'ala', 'ele', 'vreo', 'zice', 'putini', 'unele', 'sus', 'undeva', 'unei', 'ciţi', 'altii', 'zi', 'tot', 'nici', 'dintr', 'totuşi', 'sint', 'unuia', 'toţi', 'te', 'aş', 'dat', 'cam', 'au', 'data', 'printr', 'ul', 'cele', 'atatia', 'ea', 'tai', 'aţi', 'multe', 'cea', 'aceştia', 'doilea', 't', 'cita', 'se', 'dau', 'ei', 'pic', 'ti', 'unu', 'oricat', 'miine'}\n"
     ]
    }
   ],
   "source": [
    "from nltk.corpus import stopwords\n",
    "import re\n",
    "\n",
    "stopw = stopwords.words('romanian')\n",
    "for i in range(len(stopw)):\n",
    "    stopw[i] = stopw[i].replace('ă','a').replace('â','a').replace('ș','s').replace('ț','t').replace('î','i').replace('-','')\n",
    "\n",
    "stopw = set(stopw)\n",
    "\n",
    "print(stopw)"
   ]
  },
  {
   "cell_type": "code",
   "execution_count": 85,
   "metadata": {},
   "outputs": [],
   "source": [
    "import json\n",
    "\n",
    "# file_name = \"eminescu\"\n",
    "file_name = \"bacovia\"\n",
    "\n",
    "f = open(\"{}.txt\".format(file_name),'r')\n",
    "text = f.read()\n",
    "f.close()\n",
    "\n",
    "text = re.sub(r\"[',.;\\\"!?]+\", '', text.lower())\n",
    "text = re.split(r'\\W+',text)\n",
    "\n",
    "text_sw = []\n",
    "\n",
    "for word in text: \n",
    "    if word not in stopw:\n",
    "        text_sw.append(word)\n",
    "\n",
    "word_dict = {}\n",
    "\n",
    "nr_words = 0\n",
    "for word in text_sw:\n",
    "    if len(word) >= 3:\n",
    "        nr_words +=1\n",
    "        if word not in word_dict.keys():\n",
    "            word_dict[word] = 1\n",
    "        else:\n",
    "            word_dict[word] += 1\n",
    "\n",
    "for key, value in word_dict.items():\n",
    "    word_dict[key] = value * 1000000 / nr_words\n",
    "\n",
    "g = open('{}.json'.format(file_name),'w')\n",
    "json.dump(word_dict, g, indent=4)\n",
    "g.close()"
   ]
  }
 ],
 "metadata": {
  "kernelspec": {
   "display_name": "Python 3",
   "language": "python",
   "name": "python3"
  },
  "language_info": {
   "codemirror_mode": {
    "name": "ipython",
    "version": 3
   },
   "file_extension": ".py",
   "mimetype": "text/x-python",
   "name": "python",
   "nbconvert_exporter": "python",
   "pygments_lexer": "ipython3",
   "version": "3.8.3"
  }
 },
 "nbformat": 4,
 "nbformat_minor": 4
}
